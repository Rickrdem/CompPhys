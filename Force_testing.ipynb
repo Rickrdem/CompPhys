{
 "cells": [
  {
   "cell_type": "code",
   "execution_count": 1,
   "metadata": {},
   "outputs": [],
   "source": [
    "import numpy as np\n",
    "import matplotlib.pyplot as plt\n",
    "import functions as func"
   ]
  },
  {
   "cell_type": "code",
   "execution_count": 76,
   "metadata": {},
   "outputs": [],
   "source": [
    "size = (20,20,20)\n",
    "positions = np.array([\n",
    "    [1,0,0],\n",
    "    [0,1,0],\n",
    "    [0,0,1]\n",
    "])*2 + np.asarray(size)/2\n",
    "velocities = np.zeros_like(positions)"
   ]
  },
  {
   "cell_type": "code",
   "execution_count": 77,
   "metadata": {},
   "outputs": [],
   "source": [
    "distances = func.distance_completely_vectorized(positions, size)\n",
    "forces = func.force_reduced(distances)"
   ]
  },
  {
   "cell_type": "code",
   "execution_count": 78,
   "metadata": {},
   "outputs": [
    {
     "data": {
      "text/plain": [
       "array([[ 0.,  0.,  0.],\n",
       "       [ 2., -2.,  0.],\n",
       "       [ 2.,  0., -2.]])"
      ]
     },
     "execution_count": 78,
     "metadata": {},
     "output_type": "execute_result"
    }
   ],
   "source": [
    "distances[0]"
   ]
  },
  {
   "cell_type": "code",
   "execution_count": 79,
   "metadata": {},
   "outputs": [
    {
     "data": {
      "text/plain": [
       "array([[-2.,  2.,  0.],\n",
       "       [ 0.,  0.,  0.],\n",
       "       [ 0.,  2., -2.]])"
      ]
     },
     "execution_count": 79,
     "metadata": {},
     "output_type": "execute_result"
    }
   ],
   "source": [
    "distances[1]"
   ]
  },
  {
   "cell_type": "code",
   "execution_count": 88,
   "metadata": {},
   "outputs": [
    {
     "data": {
      "text/plain": [
       "array([[[       -0.        ,        -0.        ,        -0.        ],\n",
       "        [-71110187.79317096,  71110187.79317096,        -0.        ],\n",
       "        [-71110187.79317096,        -0.        ,  71110187.79317096]],\n",
       "\n",
       "       [[ 71110187.79317096, -71110187.79317096,        -0.        ],\n",
       "        [       -0.        ,        -0.        ,        -0.        ],\n",
       "        [       -0.        , -71110187.79317096,  71110187.79317096]],\n",
       "\n",
       "       [[ 71110187.79317096,        -0.        , -71110187.79317096],\n",
       "        [       -0.        ,  71110187.79317096, -71110187.79317096],\n",
       "        [       -0.        ,        -0.        ,        -0.        ]]])"
      ]
     },
     "execution_count": 88,
     "metadata": {},
     "output_type": "execute_result"
    }
   ],
   "source": [
    "forces"
   ]
  },
  {
   "cell_type": "code",
   "execution_count": 80,
   "metadata": {},
   "outputs": [
    {
     "data": {
      "text/plain": [
       "array([[0.00000000e+00, 1.00564992e+08, 1.00564992e+08],\n",
       "       [1.00564992e+08, 0.00000000e+00, 1.00564992e+08],\n",
       "       [1.00564992e+08, 1.00564992e+08, 0.00000000e+00]])"
      ]
     },
     "execution_count": 80,
     "metadata": {},
     "output_type": "execute_result"
    }
   ],
   "source": [
    "func.abs(forces)"
   ]
  },
  {
   "cell_type": "code",
   "execution_count": 86,
   "metadata": {},
   "outputs": [
    {
     "data": {
      "text/plain": [
       "array([[[ 0.        ,  0.        ,  0.        ],\n",
       "        [ 0.70710678, -0.70710678,  0.        ],\n",
       "        [ 0.70710678,  0.        , -0.70710678]],\n",
       "\n",
       "       [[-0.70710678,  0.70710678,  0.        ],\n",
       "        [ 0.        ,  0.        ,  0.        ],\n",
       "        [ 0.        ,  0.70710678, -0.70710678]],\n",
       "\n",
       "       [[-0.70710678,  0.        ,  0.70710678],\n",
       "        [ 0.        , -0.70710678,  0.70710678],\n",
       "        [ 0.        ,  0.        ,  0.        ]]])"
      ]
     },
     "execution_count": 86,
     "metadata": {},
     "output_type": "execute_result"
    }
   ],
   "source": [
    "directions = np.divide(distances, func.abs(distances)[:,:,None], out=np.zeros_like(distances), where=distances!=0)\n",
    "directions"
   ]
  },
  {
   "cell_type": "code",
   "execution_count": 87,
   "metadata": {},
   "outputs": [
    {
     "data": {
      "text/plain": [
       "array([[-1.42220376e+08,  7.11101878e+07,  7.11101878e+07],\n",
       "       [ 7.11101878e+07, -1.42220376e+08,  7.11101878e+07],\n",
       "       [ 7.11101878e+07,  7.11101878e+07, -1.42220376e+08]])"
      ]
     },
     "execution_count": 87,
     "metadata": {},
     "output_type": "execute_result"
    }
   ],
   "source": [
    "np.sum(forces, axis=1)"
   ]
  },
  {
   "cell_type": "code",
   "execution_count": 89,
   "metadata": {},
   "outputs": [
    {
     "data": {
      "text/plain": [
       "array([[[        0.        ,         0.        ,         0.        ],\n",
       "        [ 50282496.00000004, -50282496.00000004,         0.        ],\n",
       "        [ 50282496.00000004,         0.        , -50282496.00000004]],\n",
       "\n",
       "       [[-50282496.00000004,  50282496.00000004,         0.        ],\n",
       "        [        0.        ,         0.        ,         0.        ],\n",
       "        [        0.        ,  50282496.00000004, -50282496.00000004]],\n",
       "\n",
       "       [[-50282496.00000004,         0.        ,  50282496.00000004],\n",
       "        [        0.        , -50282496.00000004,  50282496.00000004],\n",
       "        [        0.        ,         0.        ,         0.        ]]])"
      ]
     },
     "execution_count": 89,
     "metadata": {},
     "output_type": "execute_result"
    }
   ],
   "source": [
    "directions*func.abs(directions*forces)[:,:,None]"
   ]
  },
  {
   "cell_type": "code",
   "execution_count": 84,
   "metadata": {},
   "outputs": [
    {
     "data": {
      "text/plain": [
       "<matplotlib.collections.PathCollection at 0x1b6e3afd9b0>"
      ]
     },
     "execution_count": 84,
     "metadata": {},
     "output_type": "execute_result"
    },
    {
     "data": {
      "image/png": "[encoded data removed]",
      "text/plain": [
       "<Figure size 432x288 with 1 Axes>"
      ]
     },
     "metadata": {
      "needs_background": "light"
     },
     "output_type": "display_data"
    }
   ],
   "source": [
    "x,y,z = positions\n",
    "plt.scatter(x,y)"
   ]
  },
  {
   "cell_type": "code",
   "execution_count": null,
   "metadata": {},
   "outputs": [],
   "source": [
    "np.linalg.lu()"
   ]
  }
 ],
 "metadata": {
  "kernelspec": {
   "display_name": "Python 3",
   "language": "python",
   "name": "python3"
  },
  "language_info": {
   "codemirror_mode": {
    "name": "ipython",
    "version": 3
   },
   "file_extension": ".py",
   "mimetype": "text/x-python",
   "name": "python",
   "nbconvert_exporter": "python",
   "pygments_lexer": "ipython3",
   "version": "3.7.0"
  }
 },
 "nbformat": 4,
 "nbformat_minor": 2
}
